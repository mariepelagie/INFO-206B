{
 "cells": [
  {
   "cell_type": "code",
   "execution_count": 1,
   "metadata": {},
   "outputs": [],
   "source": [
    "class Soldier:\n",
    "    def __init__(self, position):\n",
    "        self.pos = position\n",
    "        self.next = None\n",
    "        self.prev = None\n",
    "        \n",
    "    def __str__(self):\n",
    "        return str(self.pos)\n",
    "    def get_position(self):\n",
    "        return self.pos\n",
    "    def get_prev(self):\n",
    "        return self.prev\n",
    "    def get_next(self):\n",
    "        return self.next\n",
    "    def kill(self, prefix,suffix):\n",
    "        self.prev.next = self.next\n",
    "        self.next.prev = self.prev\n",
    "        print(prefix+ str(self.pos)+ suffix)"
   ]
  },
  {
   "cell_type": "code",
   "execution_count": 2,
   "metadata": {},
   "outputs": [],
   "source": [
    "class Army:\n",
    "    def __init__(self, n):\n",
    "        \n",
    "        #variable that counts number of soldiers \n",
    "        self.n = n\n",
    "        #variable to track number of soldiers still alive\n",
    "        self.num_alive = n\n",
    "        \n",
    "        self.first_soldier = Soldier(1)\n",
    "        self.first_soldier.next = self.first_soldier\n",
    "        self.first_soldier.prev = self.first_soldier\n",
    "        self.cur_victim = self.first_soldier \n",
    "        ## creating doubly linked list\n",
    "        for i in range(2,self.n+1):\n",
    "            s = Soldier(i)\n",
    "            s.prev = self.cur_victim \n",
    "            s.next = self.cur_victim .next\n",
    "            self.cur_victim .next.prev =s\n",
    "            self.cur_victim .next = s\n",
    "            self.cur_victim  = s\n",
    "        \n",
    "    def advance(self,k): # function updated next victim by moving k steps\n",
    "        for j in range(k):\n",
    "            self.cur_victim = self.cur_victim.next\n",
    "            #print(self.cur_victim)\n",
    "        \n",
    "    def kill_all(self,k): #goes through and kills all soldiers unitl one left alive\n",
    "        while self.num_alive >1:# loop until num_alive =1\n",
    "            self.advance(k)\n",
    "            self.cur_victim.kill(prefix,suffix)\n",
    "            self.num_alive -=1\n",
    "            \n",
    "        return('the last remaining Soldier is: ' + str(self.cur_victim.next) )\n",
    "            \n",
    "            \n",
    "        \n",
    "        \n",
    "    "
   ]
  },
  {
   "cell_type": "markdown",
   "metadata": {},
   "source": [
    "#### Driver code"
   ]
  },
  {
   "cell_type": "code",
   "execution_count": 7,
   "metadata": {},
   "outputs": [
    {
     "name": "stdout",
     "output_type": "stream",
     "text": [
      "Enter number n of soliders, at least 2: 5\n",
      "Enter spacing between victims, between 1 and n: 2\n",
      "Soldier 2 buys the farm\n",
      "Soldier 4 buys the farm\n",
      "Soldier 1 buys the farm\n",
      "Soldier 5 buys the farm\n"
     ]
    },
    {
     "data": {
      "text/plain": [
       "'the last remaining Soldier is: 3'"
      ]
     },
     "execution_count": 7,
     "metadata": {},
     "output_type": "execute_result"
    }
   ],
   "source": [
    "prefix = 'Soldier '\n",
    "suffix = ' buys the farm'\n",
    "## Ask user to specify number of soldiers\n",
    "n = int(input(\"Enter number n of soliders, at least 2: \"))\n",
    "## Ask user to specify victim spacing\n",
    "k = int(input(\"Enter spacing between victims, between 1 and n: \"))\n",
    "\n",
    "army = Army(n)\n",
    "army.kill_all(k)\n"
   ]
  },
  {
   "cell_type": "code",
   "execution_count": 8,
   "metadata": {},
   "outputs": [
    {
     "name": "stdout",
     "output_type": "stream",
     "text": [
      "Enter number n of soliders, at least 2: 8\n",
      "Enter spacing between victims, between 1 and n: 4\n",
      "Soldier 4 buys the farm\n",
      "Soldier 8 buys the farm\n",
      "Soldier 5 buys the farm\n",
      "Soldier 2 buys the farm\n",
      "Soldier 1 buys the farm\n",
      "Soldier 3 buys the farm\n",
      "Soldier 7 buys the farm\n"
     ]
    },
    {
     "data": {
      "text/plain": [
       "'the last remaining Soldier is: 6'"
      ]
     },
     "execution_count": 8,
     "metadata": {},
     "output_type": "execute_result"
    }
   ],
   "source": [
    "## Ask user to specify number of soldiers\n",
    "n = int(input(\"Enter number n of soliders, at least 2: \"))\n",
    "## Ask user to specify victim spacing\n",
    "k = int(input(\"Enter spacing between victims, between 1 and n: \"))\n",
    "\n",
    "army = Army(n)\n",
    "army.kill_all(k)"
   ]
  },
  {
   "cell_type": "code",
   "execution_count": 9,
   "metadata": {},
   "outputs": [
    {
     "name": "stdout",
     "output_type": "stream",
     "text": [
      "Enter number n of soliders, at least 2: 41\n",
      "Enter spacing between victims, between 1 and n: 2\n",
      "Soldier 2 buys the farm\n",
      "Soldier 4 buys the farm\n",
      "Soldier 6 buys the farm\n",
      "Soldier 8 buys the farm\n",
      "Soldier 10 buys the farm\n",
      "Soldier 12 buys the farm\n",
      "Soldier 14 buys the farm\n",
      "Soldier 16 buys the farm\n",
      "Soldier 18 buys the farm\n",
      "Soldier 20 buys the farm\n",
      "Soldier 22 buys the farm\n",
      "Soldier 24 buys the farm\n",
      "Soldier 26 buys the farm\n",
      "Soldier 28 buys the farm\n",
      "Soldier 30 buys the farm\n",
      "Soldier 32 buys the farm\n",
      "Soldier 34 buys the farm\n",
      "Soldier 36 buys the farm\n",
      "Soldier 38 buys the farm\n",
      "Soldier 40 buys the farm\n",
      "Soldier 1 buys the farm\n",
      "Soldier 5 buys the farm\n",
      "Soldier 9 buys the farm\n",
      "Soldier 13 buys the farm\n",
      "Soldier 17 buys the farm\n",
      "Soldier 21 buys the farm\n",
      "Soldier 25 buys the farm\n",
      "Soldier 29 buys the farm\n",
      "Soldier 33 buys the farm\n",
      "Soldier 37 buys the farm\n",
      "Soldier 41 buys the farm\n",
      "Soldier 7 buys the farm\n",
      "Soldier 15 buys the farm\n",
      "Soldier 23 buys the farm\n",
      "Soldier 31 buys the farm\n",
      "Soldier 39 buys the farm\n",
      "Soldier 11 buys the farm\n",
      "Soldier 27 buys the farm\n",
      "Soldier 3 buys the farm\n",
      "Soldier 35 buys the farm\n"
     ]
    },
    {
     "data": {
      "text/plain": [
       "'the last remaining Soldier is: 19'"
      ]
     },
     "execution_count": 9,
     "metadata": {},
     "output_type": "execute_result"
    }
   ],
   "source": [
    "## Ask user to specify number of soldiers\n",
    "n = int(input(\"Enter number n of soliders, at least 2: \"))\n",
    "## Ask user to specify victim spacing\n",
    "k = int(input(\"Enter spacing between victims, between 1 and n: \"))\n",
    "\n",
    "army = Army(n)\n",
    "army.kill_all(k)"
   ]
  },
  {
   "cell_type": "code",
   "execution_count": null,
   "metadata": {},
   "outputs": [],
   "source": []
  }
 ],
 "metadata": {
  "kernelspec": {
   "display_name": "Python 3",
   "language": "python",
   "name": "python3"
  },
  "language_info": {
   "codemirror_mode": {
    "name": "ipython",
    "version": 3
   },
   "file_extension": ".py",
   "mimetype": "text/x-python",
   "name": "python",
   "nbconvert_exporter": "python",
   "pygments_lexer": "ipython3",
   "version": "3.7.1"
  }
 },
 "nbformat": 4,
 "nbformat_minor": 2
}
