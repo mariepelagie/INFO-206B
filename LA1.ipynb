{
 "cells": [
  {
   "cell_type": "code",
   "execution_count": 3,
   "metadata": {},
   "outputs": [],
   "source": [
    "import random"
   ]
  },
  {
   "cell_type": "markdown",
   "metadata": {},
   "source": [
    "## Recursive Binary Search"
   ]
  },
  {
   "cell_type": "code",
   "execution_count": 4,
   "metadata": {},
   "outputs": [],
   "source": [
    "def recurs_bin_search(L,key,l_index,r_index):\n",
    "    if L[l_index:r_index+1] == []: # base case, check if list is empty\n",
    "        return None\n",
    "    else:\n",
    "        midpoint = int((l_index+r_index)/2) ##  find midpoint and use int to floor float values\n",
    "        if key == L[midpoint]:\n",
    "            return midpoint\n",
    "        elif key < L[midpoint]:\n",
    "#             return recurs_bin_search(L[l_index:midpoint],key,l_index,midpoint-1)\n",
    "            return recurs_bin_search(L,key,l_index,midpoint-1)\n",
    "        ## key > L[midpoint]\n",
    "        return recurs_bin_search(L,key,midpoint+1,r_index)\n",
    "#         return recurs_bin_search(L[midpoint+1:r_index+1],key,midpoint+1,r_index)\n",
    "                "
   ]
  },
  {
   "cell_type": "code",
   "execution_count": 42,
   "metadata": {},
   "outputs": [
    {
     "name": "stdout",
     "output_type": "stream",
     "text": [
      "6\n"
     ]
    }
   ],
   "source": [
    "### driver code\n",
    "M = [27, 78, 105, 135, 411, 431, 434, 468, 493, 501, 525, 534, 551, 654, 780]\n",
    "print(recurs_bin_search(M,434,0,12))"
   ]
  },
  {
   "cell_type": "code",
   "execution_count": 43,
   "metadata": {},
   "outputs": [
    {
     "name": "stdout",
     "output_type": "stream",
     "text": [
      "3\n"
     ]
    }
   ],
   "source": [
    "M = [27, 78, 105, 135, 411, 431, 434, 468, 493, 501, 525, 534, 551, 654, 780]\n",
    "print(recurs_bin_search(M,135,0,14))"
   ]
  },
  {
   "cell_type": "code",
   "execution_count": 44,
   "metadata": {},
   "outputs": [
    {
     "name": "stdout",
     "output_type": "stream",
     "text": [
      "3\n"
     ]
    }
   ],
   "source": [
    "print(recurs_bin_search(M,135,2,12))"
   ]
  },
  {
   "cell_type": "code",
   "execution_count": 45,
   "metadata": {},
   "outputs": [
    {
     "name": "stdout",
     "output_type": "stream",
     "text": [
      "4\n"
     ]
    }
   ],
   "source": [
    "M = [27, 78, 105, 135, 411, 431, 434, 468, 493, 501, 525, 534, 551, 654, 780]\n",
    "print(recurs_bin_search(M,411,2,12))"
   ]
  },
  {
   "cell_type": "code",
   "execution_count": 46,
   "metadata": {},
   "outputs": [
    {
     "name": "stdout",
     "output_type": "stream",
     "text": [
      "14\n"
     ]
    }
   ],
   "source": [
    "print(recurs_bin_search(M,780,0,14))"
   ]
  },
  {
   "cell_type": "code",
   "execution_count": 47,
   "metadata": {},
   "outputs": [
    {
     "name": "stdout",
     "output_type": "stream",
     "text": [
      "None\n"
     ]
    }
   ],
   "source": [
    "print(recurs_bin_search(M,500,0,14))"
   ]
  },
  {
   "cell_type": "markdown",
   "metadata": {},
   "source": [
    "## User Interface"
   ]
  },
  {
   "cell_type": "code",
   "execution_count": 9,
   "metadata": {},
   "outputs": [
    {
     "name": "stdout",
     "output_type": "stream",
     "text": [
      " Specify an integer number for the length of your list: 5\n",
      "[33, 313, 574, 884, 987]\n",
      " Input a integer you want to search for in your list. Alternatively                       enter letter 'q' to quit program or '?' to see your full list: 313\n",
      "position of number in list:  1\n",
      " Input a integer you want to search for in your list. Alternatively                       enter letter 'q' to quit program or '?' to see your full list: 23\n",
      "position of number in list:  None\n",
      " Input a integer you want to search for in your list. Alternatively                       enter letter 'q' to quit program or '?' to see your full list: ?\n",
      "[33, 313, 574, 884, 987]\n"
     ]
    }
   ],
   "source": [
    "## Ask user to specify length of list\n",
    "N = int(input(\" Specify an integer number for the length of your list: \"))\n",
    "## Create random list of length N, specified by user\n",
    "N_list=[random.randrange(1,1001,1) for _ in range (N)]\n",
    "N_list.sort()\n",
    "print(N_list)\n",
    "\n",
    "## Ask User to input number to search, or quit progra\n",
    "element = input(\" Input a integer you want to search for in your list. Alternatively \\\n",
    "                      enter letter 'q' to quit program or '?' to see your full list: \")\n",
    "while element != 'q':# or element != '?':\n",
    "    if element == '?':\n",
    "        print(N_list)\n",
    "        element = 'q'\n",
    "#         print('Exiting program')\n",
    "#     elif element == 'q':\n",
    "#         print('Exiting program')\n",
    "    else:\n",
    "        print('position of number in list: ', recurs_bin_search(N_list,int(element),0,N-1))\n",
    "        element = input(\" Input a integer you want to search for in your list. Alternatively \\\n",
    "                      enter letter 'q' to quit program or '?' to see your full list: \")\n",
    "\n"
   ]
  },
  {
   "cell_type": "code",
   "execution_count": null,
   "metadata": {},
   "outputs": [],
   "source": []
  }
 ],
 "metadata": {
  "kernelspec": {
   "display_name": "Python 3",
   "language": "python",
   "name": "python3"
  },
  "language_info": {
   "codemirror_mode": {
    "name": "ipython",
    "version": 3
   },
   "file_extension": ".py",
   "mimetype": "text/x-python",
   "name": "python",
   "nbconvert_exporter": "python",
   "pygments_lexer": "ipython3",
   "version": "3.7.1"
  }
 },
 "nbformat": 4,
 "nbformat_minor": 2
}
