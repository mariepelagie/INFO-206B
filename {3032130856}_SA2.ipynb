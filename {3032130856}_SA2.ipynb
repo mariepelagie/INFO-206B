{
 "cells": [
  {
   "cell_type": "code",
   "execution_count": 2,
   "metadata": {},
   "outputs": [],
   "source": [
    "def bubble_sort(L):\n",
    "    while True: # worse case is O(n) because we have to change position(move left) of all n elements in list L. at most 1 element moves left per pass\n",
    "        swap = 0 ## counts number of times a swap occurs during one pass\n",
    "        for i in range(len(L)-1): # for each pass we have to check n-1 pairs\n",
    "            if L[i]>L[i+1]: # this is O(1)\n",
    "                swap+=1\n",
    "                temp = L[i]\n",
    "                L[i]=L[i+1]\n",
    "                L[i+1] = temp\n",
    "\n",
    "        if swap == 0: # this is O(1)\n",
    "            return L # this is O(1)\n",
    "        \n",
    "## Overall complexity is O(n(n-1))  which is approximately O(nxn)\n",
    "## Best case\n",
    "## the list is already ordered so we only go through one pass of for loop\n",
    "##complexity = O(n)\n",
    "\n",
    "## worse case \n",
    "# Bubble Sort only returns after performing n iterations of the outer loop to change position(move left) \n",
    "#of all n elements in list L. at most 1 element moves left per pass\n",
    "# At iteration 0, inner loop runs for n-1-0 times\n",
    "# At iteration 1, inner loop runs for n-1-1 times \n",
    "# At iteration n-1, inner loop runs for n-1-(n-1)=0 times\n",
    "# output = (n-1) + (n-2) + (n-3) + ..... + 3 + 2 + 1 =  n(n-1)/2\n",
    "## complexity =  O(n2)"
   ]
  },
  {
   "cell_type": "markdown",
   "metadata": {},
   "source": [
    "## Driver code"
   ]
  },
  {
   "cell_type": "code",
   "execution_count": 5,
   "metadata": {},
   "outputs": [
    {
     "data": {
      "text/plain": [
       "[11, 12, 22, 25, 34, 64, 90]"
      ]
     },
     "execution_count": 5,
     "metadata": {},
     "output_type": "execute_result"
    }
   ],
   "source": [
    "L = [64, 34, 25, 12, 22, 11, 90]\n",
    "bubble_sort(L)"
   ]
  },
  {
   "cell_type": "code",
   "execution_count": 6,
   "metadata": {},
   "outputs": [
    {
     "data": {
      "text/plain": [
       "[]"
      ]
     },
     "execution_count": 6,
     "metadata": {},
     "output_type": "execute_result"
    }
   ],
   "source": [
    "L = []\n",
    "bubble_sort(L)"
   ]
  },
  {
   "cell_type": "code",
   "execution_count": 7,
   "metadata": {},
   "outputs": [
    {
     "data": {
      "text/plain": [
       "[90, 90, 90, 90]"
      ]
     },
     "execution_count": 7,
     "metadata": {},
     "output_type": "execute_result"
    }
   ],
   "source": [
    "L = [90, 90, 90, 90]\n",
    "bubble_sort(L)"
   ]
  },
  {
   "cell_type": "code",
   "execution_count": 8,
   "metadata": {},
   "outputs": [
    {
     "data": {
      "text/plain": [
       "[-10, -9, -1, 0, 5]"
      ]
     },
     "execution_count": 8,
     "metadata": {},
     "output_type": "execute_result"
    }
   ],
   "source": [
    "L = [-1,0,5,-9,-10]\n",
    "bubble_sort(L)"
   ]
  }
 ],
 "metadata": {
  "kernelspec": {
   "display_name": "Python 3",
   "language": "python",
   "name": "python3"
  },
  "language_info": {
   "codemirror_mode": {
    "name": "ipython",
    "version": 3
   },
   "file_extension": ".py",
   "mimetype": "text/x-python",
   "name": "python",
   "nbconvert_exporter": "python",
   "pygments_lexer": "ipython3",
   "version": "3.7.1"
  }
 },
 "nbformat": 4,
 "nbformat_minor": 2
}
